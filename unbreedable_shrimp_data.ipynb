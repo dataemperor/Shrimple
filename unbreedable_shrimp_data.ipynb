{
  "nbformat": 4,
  "nbformat_minor": 0,
  "metadata": {
    "colab": {
      "provenance": [],
      "authorship_tag": "ABX9TyO5+mHR01GcOdRX3CbiRj08",
      "include_colab_link": true
    },
    "kernelspec": {
      "name": "python3",
      "display_name": "Python 3"
    },
    "language_info": {
      "name": "python"
    }
  },
  "cells": [
    {
      "cell_type": "markdown",
      "metadata": {
        "id": "view-in-github",
        "colab_type": "text"
      },
      "source": [
        "<a href=\"https://colab.research.google.com/github/dataemperor/Shrimple/blob/shaithra/unbreedable_shrimp_data.ipynb\" target=\"_parent\"><img src=\"https://colab.research.google.com/assets/colab-badge.svg\" alt=\"Open In Colab\"/></a>"
      ]
    },
    {
      "cell_type": "code",
      "source": [
        "import random\n",
        "import pandas as pd\n",
        "from datetime import datetime, timedelta\n",
        "from google.colab import drive  # Import Google Colab Drive\n",
        "\n",
        "# Mount Google Drive\n",
        "drive.mount('/content/drive')\n",
        "\n",
        "# Function to generate random dates\n",
        "def generate_dates(start_date, num_days):\n",
        "    base_date = datetime.strptime(start_date, \"%m/%d/%Y\")\n",
        "    return [(base_date + timedelta(days=i)).strftime(\"%m/%d/%Y\") for i in range(num_days)]\n",
        "\n",
        "# Parameters\n",
        "num_rows = 70\n",
        "pond_ids = [f\"P{str(i).zfill(2)}\" for i in range(1, 21)]  # P01, P02, ..., P20\n",
        "\n",
        "# Generate data\n",
        "unbreedable_data = []\n",
        "\n",
        "dates = generate_dates(\"12/1/2024\", num_rows)\n",
        "for i in range(num_rows):\n",
        "    row = {\n",
        "        \"Date\": dates[i % len(dates)],\n",
        "        \"PondID\": random.choice(pond_ids),\n",
        "        \"DOC\": random.choice([random.randint(20, 34), random.randint(51, 60)]),  # Outside 35-50\n",
        "        \"ph\": random.choice([round(random.uniform(6.0, 7.4), 1), round(random.uniform(8.6, 9.5), 1)]),\n",
        "        \"Salinity\": random.choice([round(random.uniform(0, 4.9), 1), round(random.uniform(30.1, 40), 1)]),\n",
        "        \"Transparency\": random.choice([random.randint(0, 9), random.randint(41, 50)]),\n",
        "        \"Status\": \"Unbreedable\",\n",
        "    }\n",
        "    unbreedable_data.append(row)\n",
        "\n",
        "# Create DataFrame\n",
        "unbreedable_df = pd.DataFrame(unbreedable_data)\n",
        "\n",
        "# Save to Google Drive folder\n",
        "file_path = '/content/drive/My Drive/unbreedable_shrimp_data.csv'  # Adjust folder as needed\n",
        "unbreedable_df.to_csv(file_path, index=False)\n",
        "\n",
        "print(f\"CSV file saved successfully to your Google Drive at: {file_path}\")\n"
      ],
      "metadata": {
        "colab": {
          "base_uri": "https://localhost:8080/"
        },
        "id": "JcszajuMOZkK",
        "outputId": "e6c8d005-dfbd-4844-c84e-514ed9766706"
      },
      "execution_count": null,
      "outputs": [
        {
          "output_type": "stream",
          "name": "stdout",
          "text": [
            "Drive already mounted at /content/drive; to attempt to forcibly remount, call drive.mount(\"/content/drive\", force_remount=True).\n",
            "CSV file saved successfully to your Google Drive at: /content/drive/My Drive/unbreedable_shrimp_data.csv\n"
          ]
        }
      ]
    },
    {
      "cell_type": "code",
      "source": [
        "import random\n",
        "import pandas as pd\n",
        "from datetime import datetime, timedelta\n",
        "from google.colab import drive  # Import Google Colab Drive\n",
        "\n",
        "# Mount Google Drive\n",
        "drive.mount('/content/drive')\n",
        "\n",
        "# Function to generate random dates\n",
        "def generate_dates(start_date, num_days):\n",
        "    base_date = datetime.strptime(start_date, \"%m/%d/%Y\")\n",
        "    return [(base_date + timedelta(days=i)).strftime(\"%m/%d/%Y\") for i in range(num_days)]\n",
        "\n",
        "# Parameters\n",
        "num_rows = 300\n",
        "pond_ids = [f\"P{str(i).zfill(2)}\" for i in range(1, 21)]  # P01, P02, ..., P20\n",
        "\n",
        "# Generate data\n",
        "unbreedable_data = []\n",
        "\n",
        "dates = generate_dates(\"12/1/2024\", num_rows)\n",
        "for i in range(num_rows):\n",
        "    row = {\n",
        "        \"Date\": dates[i % len(dates)],\n",
        "        \"PondID\": random.choice(pond_ids),\n",
        "        \"DOC\": random.choice([random.randint(20, 34), random.randint(51, 60)]),  # Outside 35-50\n",
        "        \"ph\": random.choice([round(random.uniform(6.0, 7.4), 1), round(random.uniform(8.6, 9.5), 1)]),  # Outside 7.5-8.5\n",
        "        \"Alkalinity\": random.randint(85, 120),  # Within the range 85-120\n",
        "        \"Salinity\": random.choice([round(random.uniform(0, 4.9), 1), round(random.uniform(30.1, 40), 1)]),  # Outside 5-30\n",
        "        \"Transparency\": random.choice([random.randint(0, 9), random.randint(41, 50)]),  # Outside 10-40\n",
        "        \"Status\": \"Unbreedable\",\n",
        "    }\n",
        "    unbreedable_data.append(row)\n",
        "\n",
        "# Create DataFrame\n",
        "unbreedable_df = pd.DataFrame(unbreedable_data)\n",
        "\n",
        "# Save to Google Drive folder\n",
        "file_path = '/content/drive/My Drive/unbreedable_shrimp_data_with_alkalinity.csv'  # Adjust folder as needed\n",
        "unbreedable_df.to_csv(file_path, index=False)\n",
        "\n",
        "print(f\"CSV file saved successfully to your Google Drive at: {file_path}\")\n"
      ],
      "metadata": {
        "colab": {
          "base_uri": "https://localhost:8080/"
        },
        "id": "LxagiysfgxBa",
        "outputId": "63916020-1a80-4bc5-f99f-22f15a509468"
      },
      "execution_count": null,
      "outputs": [
        {
          "output_type": "stream",
          "name": "stdout",
          "text": [
            "Mounted at /content/drive\n",
            "CSV file saved successfully to your Google Drive at: /content/drive/My Drive/unbreedable_shrimp_data_with_alkalinity.csv\n"
          ]
        }
      ]
    },
    {
      "cell_type": "code",
      "source": [
        "import random\n",
        "import pandas as pd\n",
        "from datetime import datetime, timedelta\n",
        "from google.colab import drive  # Import Google Colab Drive\n",
        "\n",
        "# Mount Google Drive\n",
        "drive.mount('/content/drive')\n",
        "\n",
        "# Function to generate random dates\n",
        "def generate_dates(start_date, num_days, end_date):\n",
        "    base_date = datetime.strptime(start_date, \"%m/%d/%Y\")\n",
        "    end_base_date = datetime.strptime(end_date, \"%m/%d/%Y\")\n",
        "    date_list = []\n",
        "    current_date = base_date\n",
        "    while current_date <= end_base_date:\n",
        "        date_list.append(current_date.strftime(\"%m/%d/%Y\"))\n",
        "        current_date += timedelta(days=1)\n",
        "    return date_list[:num_days]\n",
        "\n",
        "# Parameters\n",
        "num_rows = 300\n",
        "pond_ids = [f\"P{str(i).zfill(2)}\" for i in range(1, 21)]  # P01, P02, ..., P20\n",
        "\n",
        "# Generate data\n",
        "unbreedable_data = []\n",
        "\n",
        "dates = generate_dates(\"10/1/2024\", num_rows, \"1/31/2025\")\n",
        "for i in range(num_rows):\n",
        "    row = {\n",
        "        \"Date\": dates[i % len(dates)],\n",
        "        \"PondID\": random.choice(pond_ids),\n",
        "        \"DOC\": random.choice([random.randint(20, 34), random.randint(51, 60)]),  # Outside 35-50\n",
        "        \"ph\": random.choice([round(random.uniform(6.0, 7.4), 1), round(random.uniform(8.6, 9.5), 1)]),  # Outside 7.5-8.5\n",
        "        \"Alkalinity\": random.randint(85, 120),  # Within the range 85-120\n",
        "        \"Salinity\": random.choice([round(random.uniform(0, 4.9), 1), round(random.uniform(30.1, 40), 1)]),  # Outside 5-30\n",
        "        \"Transparency\": random.choice([random.randint(0, 9), random.randint(41, 50)]),  # Outside 10-40\n",
        "        \"Status\": \"Unbreedable\",\n",
        "    }\n",
        "    unbreedable_data.append(row)\n",
        "\n",
        "# Create DataFrame\n",
        "unbreedable_df = pd.DataFrame(unbreedable_data)\n",
        "\n",
        "# Save to Google Drive folder\n",
        "file_path = '/content/drive/My Drive/unbreedable_shrimp_data_with_alkalinity.csv'  # Adjust folder as needed\n",
        "unbreedable_df.to_csv(file_path, index=False)\n",
        "\n",
        "print(f\"CSV file saved successfully to your Google Drive at: {file_path}\")\n"
      ],
      "metadata": {
        "id": "NSkrM7UCy902",
        "outputId": "61412180-1210-4dac-8aab-999e7da9e237",
        "colab": {
          "base_uri": "https://localhost:8080/"
        }
      },
      "execution_count": null,
      "outputs": [
        {
          "output_type": "stream",
          "name": "stdout",
          "text": [
            "Drive already mounted at /content/drive; to attempt to forcibly remount, call drive.mount(\"/content/drive\", force_remount=True).\n",
            "CSV file saved successfully to your Google Drive at: /content/drive/My Drive/unbreedable_shrimp_data_with_alkalinity.csv\n"
          ]
        }
      ]
    },
    {
      "cell_type": "markdown",
      "source": [
        "Final One"
      ],
      "metadata": {
        "id": "YdnRbrjdE_KY"
      }
    },
    {
      "cell_type": "code",
      "source": [
        "import random\n",
        "import pandas as pd\n",
        "from datetime import datetime, timedelta\n",
        "from google.colab import drive  # Import Google Colab Drive\n",
        "\n",
        "# Mount Google Drive\n",
        "drive.mount('/content/drive')\n",
        "\n",
        "# Function to generate random dates\n",
        "def generate_dates(start_date, num_days, end_date):\n",
        "    base_date = datetime.strptime(start_date, \"%m/%d/%Y\")\n",
        "    end_base_date = datetime.strptime(end_date, \"%m/%d/%Y\")\n",
        "    date_list = []\n",
        "    current_date = base_date\n",
        "    while current_date <= end_base_date:\n",
        "        date_list.append(current_date.strftime(\"%m/%d/%Y\"))\n",
        "        current_date += timedelta(days=1)\n",
        "    return date_list[:num_days]\n",
        "\n",
        "# Parameters\n",
        "num_rows = 300\n",
        "pond_ids = [f\"P{str(i).zfill(2)}\" for i in range(1, 21)]  # P01, P02, ..., P20\n",
        "\n",
        "# Generate data\n",
        "unbreedable_data = []\n",
        "\n",
        "dates = generate_dates(\"10/1/2024\", num_rows, \"1/31/2025\")\n",
        "for i in range(num_rows):\n",
        "    row = {\n",
        "        \"Date\": dates[i % len(dates)],\n",
        "        \"PondID\": random.choice(pond_ids),\n",
        "        \"DOC\": random.uniform(0.5, 3.9),  # DO less than 4 (unbreedable)\n",
        "        \"ph\": random.choice([round(random.uniform(6.0, 7.4), 1), round(random.uniform(8.6, 9.5), 1)]),  # Outside 7.5-8.5\n",
        "        \"Alkalinity\": random.choice([random.randint(30,84 ), random.randint(151, 200)]),  # Outside 85-150\n",
        "        \"Salinity\": random.choice([round(random.uniform(0, 4.9), 1), round(random.uniform(30.1, 40), 1)]),  # Outside 5-30\n",
        "        \"Transparency\": random.choice([random.randint(0, 9), random.randint(41, 50)]),  # Outside 10-40\n",
        "        \"Status\": \"Unbreedable\",\n",
        "    }\n",
        "    unbreedable_data.append(row)\n",
        "\n",
        "# Create DataFrame\n",
        "unbreedable_df = pd.DataFrame(unbreedable_data)\n",
        "\n",
        "# Save to Google Drive folder\n",
        "file_path = '/content/drive/My Drive/unbreedable_shrimp_data_with_alkalinity.csv'  # Adjust folder as needed\n",
        "unbreedable_df.to_csv(file_path, index=False)\n",
        "\n",
        "print(f\"CSV file saved successfully to your Google Drive at: {file_path}\")\n"
      ],
      "metadata": {
        "id": "8xY2YK7WE-Hg",
        "outputId": "73685847-6214-4e17-a056-2ecde847a279",
        "colab": {
          "base_uri": "https://localhost:8080/"
        }
      },
      "execution_count": null,
      "outputs": [
        {
          "output_type": "stream",
          "name": "stdout",
          "text": [
            "Drive already mounted at /content/drive; to attempt to forcibly remount, call drive.mount(\"/content/drive\", force_remount=True).\n",
            "CSV file saved successfully to your Google Drive at: /content/drive/My Drive/unbreedable_shrimp_data_with_alkalinity.csv\n"
          ]
        }
      ]
    }
  ]
}