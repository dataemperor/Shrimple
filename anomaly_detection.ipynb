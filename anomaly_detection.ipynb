{
 "cells": [
  {
   "cell_type": "markdown",
   "metadata": {},
   "source": [
    "# Import Libraries"
   ]
  },
  {
   "cell_type": "code",
   "execution_count": 23,
   "metadata": {},
   "outputs": [],
   "source": [
    "import numpy as np\n",
    "import pandas as pd "
   ]
  },
  {
   "cell_type": "markdown",
   "metadata": {},
   "source": [
    "# Loading the Dataset"
   ]
  },
  {
   "cell_type": "code",
   "execution_count": 24,
   "metadata": {},
   "outputs": [
    {
     "name": "stdout",
     "output_type": "stream",
     "text": [
      "          Date PondID   DOC   ph  Salinity  Transparency  Alkalinity  \\\n",
      "0   2024-10-12    H01   NaN  8.4      10.0          50.0       102.0   \n",
      "1   2024-10-12    A01   NaN  8.5      14.0          45.0        85.0   \n",
      "2   2024-10-12    A02   NaN  8.5      10.0          45.0        68.0   \n",
      "3   2024-10-13    H01   NaN  8.5       9.0          50.0       119.0   \n",
      "4   2024-10-13    A01   NaN  8.6      14.0          50.0       102.0   \n",
      "..         ...    ...   ...  ...       ...           ...         ...   \n",
      "641 2025-01-29    P08  31.0  9.7      33.9          50.0       139.0   \n",
      "642 2025-01-30    P01  52.0  9.3      37.8          49.0       130.0   \n",
      "643 2025-01-30    P16  64.0  5.6      31.7          47.0       112.0   \n",
      "644 2025-01-31    P09  55.0  6.0      31.7           2.0        93.0   \n",
      "645 2025-01-31    P12  28.0  5.6      33.0          46.0       140.0   \n",
      "\n",
      "          Status  \n",
      "0      Breedable  \n",
      "1      Breedable  \n",
      "2      Breedable  \n",
      "3      Breedable  \n",
      "4      Breedable  \n",
      "..           ...  \n",
      "641  Unbreedable  \n",
      "642  Unbreedable  \n",
      "643  Unbreedable  \n",
      "644  Unbreedable  \n",
      "645  Unbreedable  \n",
      "\n",
      "[646 rows x 8 columns]\n"
     ]
    }
   ],
   "source": [
    "df = pd.read_excel(\"Dataset Shrimple.xlsx\")\n",
    "\n",
    "print(df)"
   ]
  },
  {
   "cell_type": "markdown",
   "metadata": {},
   "source": [
    "# Exploratory Data Analysis"
   ]
  },
  {
   "cell_type": "markdown",
   "metadata": {},
   "source": [
    "## The first five rows of the Dataframe"
   ]
  },
  {
   "cell_type": "code",
   "execution_count": 25,
   "metadata": {},
   "outputs": [
    {
     "name": "stdout",
     "output_type": "stream",
     "text": [
      "HEAD \n",
      "         Date PondID  DOC   ph  Salinity  Transparency  Alkalinity     Status\n",
      "0 2024-10-12    H01  NaN  8.4      10.0          50.0       102.0  Breedable\n",
      "1 2024-10-12    A01  NaN  8.5      14.0          45.0        85.0  Breedable\n",
      "2 2024-10-12    A02  NaN  8.5      10.0          45.0        68.0  Breedable\n",
      "3 2024-10-13    H01  NaN  8.5       9.0          50.0       119.0  Breedable\n",
      "4 2024-10-13    A01  NaN  8.6      14.0          50.0       102.0  Breedable \n",
      "\n"
     ]
    }
   ],
   "source": [
    "print(\"HEAD \\n\", df.head(), \"\\n\")\n"
   ]
  },
  {
   "cell_type": "markdown",
   "metadata": {},
   "source": [
    "## Summary"
   ]
  },
  {
   "cell_type": "code",
   "execution_count": 26,
   "metadata": {},
   "outputs": [
    {
     "name": "stdout",
     "output_type": "stream",
     "text": [
      "<class 'pandas.core.frame.DataFrame'>\n",
      "RangeIndex: 646 entries, 0 to 645\n",
      "Data columns (total 8 columns):\n",
      " #   Column        Non-Null Count  Dtype         \n",
      "---  ------        --------------  -----         \n",
      " 0   Date          646 non-null    datetime64[ns]\n",
      " 1   PondID        646 non-null    object        \n",
      " 2   DOC           527 non-null    float64       \n",
      " 3   ph            621 non-null    float64       \n",
      " 4   Salinity      646 non-null    float64       \n",
      " 5   Transparency  639 non-null    float64       \n",
      " 6   Alkalinity    403 non-null    float64       \n",
      " 7   Status        646 non-null    object        \n",
      "dtypes: datetime64[ns](1), float64(5), object(2)\n",
      "memory usage: 40.5+ KB\n",
      "None\n"
     ]
    }
   ],
   "source": [
    "print(df.info())\n"
   ]
  },
  {
   "cell_type": "markdown",
   "metadata": {},
   "source": [
    "## Descriptive Statistics"
   ]
  },
  {
   "cell_type": "code",
   "execution_count": 27,
   "metadata": {},
   "outputs": [
    {
     "name": "stdout",
     "output_type": "stream",
     "text": [
      "\n",
      "                                 Date         DOC          ph    Salinity  \\\n",
      "count                            646  527.000000  621.000000  646.000000   \n",
      "mean   2024-12-03 17:41:03.157894656   35.856736    7.830596   14.436842   \n",
      "min              2024-10-01 00:00:00    2.000000    4.300000   -2.500000   \n",
      "25%              2024-11-02 06:00:00   22.000000    7.700000    6.000000   \n",
      "50%              2024-12-02 00:00:00   31.000000    8.000000   10.000000   \n",
      "75%              2025-01-07 18:00:00   54.000000    8.500000   16.750000   \n",
      "max              2025-01-31 00:00:00   66.000000   12.000000   43.800000   \n",
      "std                              NaN   18.268979    1.170690   12.251600   \n",
      "\n",
      "       Transparency  Alkalinity  \n",
      "count    639.000000  403.000000  \n",
      "mean      32.549296  112.669975  \n",
      "min        0.000000   68.000000  \n",
      "25%       10.000000  100.000000  \n",
      "50%       35.000000  114.000000  \n",
      "75%       49.000000  127.000000  \n",
      "max       75.000000  140.000000  \n",
      "std       20.309139   16.439025  \n"
     ]
    }
   ],
   "source": [
    "\n",
    "print(\"\\n\", df.describe())"
   ]
  },
  {
   "cell_type": "markdown",
   "metadata": {},
   "source": [
    "## Shape of the Dataframe\n",
    "The repesentation of the number of rows and columns in a dataframe as a tuple."
   ]
  },
  {
   "cell_type": "code",
   "execution_count": 30,
   "metadata": {},
   "outputs": [
    {
     "name": "stdout",
     "output_type": "stream",
     "text": [
      "(646, 8)\n"
     ]
    }
   ],
   "source": [
    "print(df.shape)"
   ]
  },
  {
   "cell_type": "markdown",
   "metadata": {},
   "source": [
    "## Columns"
   ]
  },
  {
   "cell_type": "code",
   "execution_count": 31,
   "metadata": {},
   "outputs": [
    {
     "name": "stdout",
     "output_type": "stream",
     "text": [
      "['Date', 'PondID', 'DOC', 'ph', 'Salinity', 'Transparency', 'Alkalinity', 'Status']\n"
     ]
    }
   ],
   "source": [
    "print(df.columns.tolist())"
   ]
  },
  {
   "cell_type": "markdown",
   "metadata": {},
   "source": [
    "## Missing and Duplicate Values"
   ]
  },
  {
   "cell_type": "code",
   "execution_count": 41,
   "metadata": {},
   "outputs": [
    {
     "name": "stdout",
     "output_type": "stream",
     "text": [
      "Missing values\n",
      "Date              0\n",
      "PondID            0\n",
      "DOC             119\n",
      "ph               25\n",
      "Salinity          0\n",
      "Transparency      7\n",
      "Alkalinity      243\n",
      "Status            0\n",
      "dtype: int64 \n",
      "\n",
      "Duplicate Values\n",
      "Date            123\n",
      "PondID           28\n",
      "DOC              66\n",
      "ph               54\n",
      "Salinity        170\n",
      "Transparency     36\n",
      "Alkalinity       57\n",
      "Status            2\n",
      "dtype: int64\n"
     ]
    }
   ],
   "source": [
    "print(\"Missing values\")\n",
    "print(df.isnull().sum(), \"\\n\")\n",
    "\n",
    "print(\"Duplicate Values\")\n",
    "print(df.nunique())"
   ]
  },
  {
   "cell_type": "markdown",
   "metadata": {},
   "source": [
    "## Class Distribution"
   ]
  },
  {
   "cell_type": "code",
   "execution_count": 36,
   "metadata": {},
   "outputs": [
    {
     "name": "stdout",
     "output_type": "stream",
     "text": [
      "Status\n",
      "Breedable      346\n",
      "Unbreedable    300\n",
      "Name: count, dtype: int64\n"
     ]
    }
   ],
   "source": [
    "print(df['Status'].value_counts())"
   ]
  }
 ],
 "metadata": {
  "kernelspec": {
   "display_name": "Python 3",
   "language": "python",
   "name": "python3"
  },
  "language_info": {
   "codemirror_mode": {
    "name": "ipython",
    "version": 3
   },
   "file_extension": ".py",
   "mimetype": "text/x-python",
   "name": "python",
   "nbconvert_exporter": "python",
   "pygments_lexer": "ipython3",
   "version": "3.11.3"
  }
 },
 "nbformat": 4,
 "nbformat_minor": 2
}
